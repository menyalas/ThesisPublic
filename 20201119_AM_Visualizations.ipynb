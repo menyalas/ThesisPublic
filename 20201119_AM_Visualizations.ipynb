{
 "cells": [
  {
   "cell_type": "code",
   "execution_count": 1,
   "metadata": {},
   "outputs": [],
   "source": [
    "# Libraries\n",
    "import pandas as pd\n",
    "import numpy as np\n",
    "import seaborn as sns\n",
    "import matplotlib as mpl\n",
    "import matplotlib.pyplot as plt"
   ]
  },
  {
   "cell_type": "code",
   "execution_count": 16,
   "metadata": {},
   "outputs": [],
   "source": [
    "# Get data\n",
    "df = pd.read_csv(\"20201119_AM_FinalDataset.csv\")"
   ]
  },
  {
   "cell_type": "code",
   "execution_count": 17,
   "metadata": {},
   "outputs": [
    {
     "data": {
      "text/plain": [
       "['Unnamed: 0',\n",
       " 'authorAgeDeath',\n",
       " 'authorBirthPlace',\n",
       " 'authorBirthYear',\n",
       " 'authorCulture',\n",
       " 'authorDeathPlace',\n",
       " 'authorDeathYear',\n",
       " 'authorGender',\n",
       " 'authorGeneration',\n",
       " 'authorId',\n",
       " 'authorMarriageStatus',\n",
       " 'authorMaternalStatus',\n",
       " 'authorNameBrief',\n",
       " 'authorNameFull',\n",
       " 'authorNationality',\n",
       " 'authorOccupationDestination',\n",
       " 'authorOccupationOrigin',\n",
       " 'authorPermanentMigration',\n",
       " 'authorReligion',\n",
       " 'authorYearImmigration',\n",
       " 'docAuthorAge',\n",
       " 'docEditor',\n",
       " 'docEvent',\n",
       " 'docId',\n",
       " 'docLanguage',\n",
       " 'docOrigin',\n",
       " 'docSequence',\n",
       " 'docSubject',\n",
       " 'docSubjects',\n",
       " 'docType',\n",
       " 'docYear',\n",
       " 'sentPolarity',\n",
       " 'sentSequence',\n",
       " 'sentText',\n",
       " 'sentTopic']"
      ]
     },
     "execution_count": 17,
     "metadata": {},
     "output_type": "execute_result"
    }
   ],
   "source": [
    "sorted(df)"
   ]
  },
  {
   "cell_type": "code",
   "execution_count": 18,
   "metadata": {},
   "outputs": [
    {
     "data": {
      "text/plain": [
       "1212"
      ]
     },
     "execution_count": 18,
     "metadata": {},
     "output_type": "execute_result"
    }
   ],
   "source": [
    "# How many letters?\n",
    "len(pd.unique(df['docId']))"
   ]
  },
  {
   "cell_type": "code",
   "execution_count": 19,
   "metadata": {},
   "outputs": [
    {
     "data": {
      "text/plain": [
       "284"
      ]
     },
     "execution_count": 19,
     "metadata": {},
     "output_type": "execute_result"
    }
   ],
   "source": [
    "# How many authors\n",
    "len(pd.unique(df['authorId']))"
   ]
  },
  {
   "cell_type": "code",
   "execution_count": 20,
   "metadata": {},
   "outputs": [
    {
     "data": {
      "text/plain": [
       "['Unnamed: 0',\n",
       " 'authorAgeDeath',\n",
       " 'authorBirthPlace',\n",
       " 'authorBirthYear',\n",
       " 'authorCulture',\n",
       " 'authorDeathPlace',\n",
       " 'authorDeathYear',\n",
       " 'authorGender',\n",
       " 'authorGeneration',\n",
       " 'authorId',\n",
       " 'authorMarriageStatus',\n",
       " 'authorMaternalStatus',\n",
       " 'authorName',\n",
       " 'authorNationality',\n",
       " 'authorOccupationDestination',\n",
       " 'authorOccupationOrigin',\n",
       " 'authorPermanentMigration',\n",
       " 'authorReligion',\n",
       " 'authorYearImmigration',\n",
       " 'docAuthorAge',\n",
       " 'docEditor',\n",
       " 'docEvent',\n",
       " 'docId',\n",
       " 'docLanguage',\n",
       " 'docOrigin',\n",
       " 'docSequence',\n",
       " 'docSubject',\n",
       " 'docSubjects',\n",
       " 'docType',\n",
       " 'docYear',\n",
       " 'sentPolarity',\n",
       " 'sentSequence',\n",
       " 'sentText',\n",
       " 'sentTopic']"
      ]
     },
     "execution_count": 20,
     "metadata": {},
     "output_type": "execute_result"
    }
   ],
   "source": [
    "# Drop brief name because it doesn't accord with the counts for authorID and authorNameFull\n",
    "df = df.drop(['authorNameBrief'], axis=1)\n",
    "\n",
    "# Drop \"Full\" from remaining name variable\n",
    "df.columns = df.columns.str.replace('authorNameFull', 'authorName') \n",
    "\n",
    "# View variables\n",
    "sorted(df)"
   ]
  },
  {
   "cell_type": "code",
   "execution_count": 21,
   "metadata": {},
   "outputs": [],
   "source": [
    "# How much missing data\n",
    "# Credit: https://studymachinelearning.com/pandas-count-missing-values-nan-for-each-columns-in-dataframe/\n",
    "\n",
    "# Function to count missing values for each columns in a DataFrame\n",
    "def missing_data(df):\n",
    "    # Count number of missing value in a column\n",
    "    total = df.isnull().sum()           \n",
    "    \n",
    "    # Get Percentage of missing values\n",
    "    percent = (df.isnull().sum()/df.isnull().count()*100)   \n",
    "    temp = pd.concat([total, percent], axis=1, keys=['Total', 'Percent(%)'])\n",
    "\n",
    "    # Create a Type column, that indicates the data-type of the column.\n",
    "    types = []\n",
    "    for col in df.columns:\n",
    "        dtype = str(df[col].dtype)\n",
    "        types.append(dtype)\n",
    "    temp['Types'] = types\n",
    "\n",
    "    return(np.transpose(temp))"
   ]
  },
  {
   "cell_type": "code",
   "execution_count": 22,
   "metadata": {},
   "outputs": [
    {
     "data": {
      "text/html": [
       "<div>\n",
       "<style scoped>\n",
       "    .dataframe tbody tr th:only-of-type {\n",
       "        vertical-align: middle;\n",
       "    }\n",
       "\n",
       "    .dataframe tbody tr th {\n",
       "        vertical-align: top;\n",
       "    }\n",
       "\n",
       "    .dataframe thead th {\n",
       "        text-align: right;\n",
       "    }\n",
       "</style>\n",
       "<table border=\"1\" class=\"dataframe\">\n",
       "  <thead>\n",
       "    <tr style=\"text-align: right;\">\n",
       "      <th></th>\n",
       "      <th>authorId</th>\n",
       "      <th>authorName</th>\n",
       "      <th>authorBirthYear</th>\n",
       "      <th>authorBirthPlace</th>\n",
       "      <th>authorGender</th>\n",
       "      <th>authorCulture</th>\n",
       "      <th>authorOccupationOrigin</th>\n",
       "      <th>authorReligion</th>\n",
       "      <th>authorNationality</th>\n",
       "      <th>authorYearImmigration</th>\n",
       "      <th>authorMarriageStatus</th>\n",
       "      <th>authorMaternalStatus</th>\n",
       "      <th>authorOccupationDestination</th>\n",
       "      <th>authorPermanentMigration</th>\n",
       "      <th>authorDeathYear</th>\n",
       "      <th>authorDeathPlace</th>\n",
       "      <th>authorAgeDeath</th>\n",
       "      <th>authorGeneration</th>\n",
       "    </tr>\n",
       "  </thead>\n",
       "  <tbody>\n",
       "    <tr>\n",
       "      <th>Total</th>\n",
       "      <td>0</td>\n",
       "      <td>0</td>\n",
       "      <td>9681</td>\n",
       "      <td>3621</td>\n",
       "      <td>0</td>\n",
       "      <td>18</td>\n",
       "      <td>15191</td>\n",
       "      <td>12394</td>\n",
       "      <td>8407</td>\n",
       "      <td>14837</td>\n",
       "      <td>6352</td>\n",
       "      <td>6546</td>\n",
       "      <td>5601</td>\n",
       "      <td>4981</td>\n",
       "      <td>10195</td>\n",
       "      <td>14899</td>\n",
       "      <td>11021</td>\n",
       "      <td>0</td>\n",
       "    </tr>\n",
       "    <tr>\n",
       "      <th>Percent(%)</th>\n",
       "      <td>0</td>\n",
       "      <td>0</td>\n",
       "      <td>21.9898</td>\n",
       "      <td>8.22487</td>\n",
       "      <td>0</td>\n",
       "      <td>0.0408859</td>\n",
       "      <td>34.5054</td>\n",
       "      <td>28.1522</td>\n",
       "      <td>19.096</td>\n",
       "      <td>33.7013</td>\n",
       "      <td>14.4282</td>\n",
       "      <td>14.8688</td>\n",
       "      <td>12.7223</td>\n",
       "      <td>11.314</td>\n",
       "      <td>23.1573</td>\n",
       "      <td>33.8421</td>\n",
       "      <td>25.0335</td>\n",
       "      <td>0</td>\n",
       "    </tr>\n",
       "    <tr>\n",
       "      <th>Types</th>\n",
       "      <td>object</td>\n",
       "      <td>object</td>\n",
       "      <td>float64</td>\n",
       "      <td>object</td>\n",
       "      <td>object</td>\n",
       "      <td>object</td>\n",
       "      <td>object</td>\n",
       "      <td>object</td>\n",
       "      <td>object</td>\n",
       "      <td>float64</td>\n",
       "      <td>object</td>\n",
       "      <td>object</td>\n",
       "      <td>object</td>\n",
       "      <td>object</td>\n",
       "      <td>float64</td>\n",
       "      <td>object</td>\n",
       "      <td>float64</td>\n",
       "      <td>object</td>\n",
       "    </tr>\n",
       "  </tbody>\n",
       "</table>\n",
       "</div>"
      ],
      "text/plain": [
       "           authorId authorName authorBirthYear authorBirthPlace authorGender  \\\n",
       "Total             0          0            9681             3621            0   \n",
       "Percent(%)        0          0         21.9898          8.22487            0   \n",
       "Types        object     object         float64           object       object   \n",
       "\n",
       "           authorCulture authorOccupationOrigin authorReligion  \\\n",
       "Total                 18                  15191          12394   \n",
       "Percent(%)     0.0408859                34.5054        28.1522   \n",
       "Types             object                 object         object   \n",
       "\n",
       "           authorNationality authorYearImmigration authorMarriageStatus  \\\n",
       "Total                   8407                 14837                 6352   \n",
       "Percent(%)            19.096               33.7013              14.4282   \n",
       "Types                 object               float64               object   \n",
       "\n",
       "           authorMaternalStatus authorOccupationDestination  \\\n",
       "Total                      6546                        5601   \n",
       "Percent(%)              14.8688                     12.7223   \n",
       "Types                    object                      object   \n",
       "\n",
       "           authorPermanentMigration authorDeathYear authorDeathPlace  \\\n",
       "Total                          4981           10195            14899   \n",
       "Percent(%)                   11.314         23.1573          33.8421   \n",
       "Types                        object         float64           object   \n",
       "\n",
       "           authorAgeDeath authorGeneration  \n",
       "Total               11021                0  \n",
       "Percent(%)        25.0335                0  \n",
       "Types             float64           object  "
      ]
     },
     "execution_count": 22,
     "metadata": {},
     "output_type": "execute_result"
    }
   ],
   "source": [
    "# Get missing data for author columns\n",
    "missing_data(df.filter(regex='author'))"
   ]
  },
  {
   "cell_type": "code",
   "execution_count": 15,
   "metadata": {},
   "outputs": [],
   "source": [
    "letters = pd.read_csv(\"20201119_AM_Meta2Merge.csv\")"
   ]
  },
  {
   "cell_type": "code",
   "execution_count": 23,
   "metadata": {},
   "outputs": [
    {
     "data": {
      "text/plain": [
       "['Unnamed: 0',\n",
       " 'ageatdeath',\n",
       " 'agewriting',\n",
       " 'allsubject',\n",
       " 'authorgender',\n",
       " 'authorgeneration',\n",
       " 'birthplace',\n",
       " 'birthyear',\n",
       " 'briefname',\n",
       " 'broadsubj',\n",
       " 'culturalheritage',\n",
       " 'deathplace',\n",
       " 'deathyear',\n",
       " 'docauthorid',\n",
       " 'docauthorname',\n",
       " 'docid',\n",
       " 'docsequence',\n",
       " 'doctype',\n",
       " 'docyear',\n",
       " 'editor',\n",
       " 'language',\n",
       " 'marriagestatus',\n",
       " 'maternalstatus',\n",
       " 'nationality',\n",
       " 'nativeoccupation',\n",
       " 'northamericanoccupation',\n",
       " 'personalevent',\n",
       " 'religion',\n",
       " 'stayednorthamerica',\n",
       " 'wwritten',\n",
       " 'yearimmigration']"
      ]
     },
     "execution_count": 23,
     "metadata": {},
     "output_type": "execute_result"
    }
   ],
   "source": [
    "sorted(letters)"
   ]
  },
  {
   "cell_type": "code",
   "execution_count": 25,
   "metadata": {},
   "outputs": [
    {
     "data": {
      "text/plain": [
       "M    630\n",
       "F    582\n",
       "Name: authorgender, dtype: int64"
      ]
     },
     "execution_count": 25,
     "metadata": {},
     "output_type": "execute_result"
    }
   ],
   "source": [
    "letters['authorgender'].value_counts()"
   ]
  }
 ],
 "metadata": {
  "kernelspec": {
   "display_name": "Python 3",
   "language": "python",
   "name": "python3"
  },
  "language_info": {
   "codemirror_mode": {
    "name": "ipython",
    "version": 3
   },
   "file_extension": ".py",
   "mimetype": "text/x-python",
   "name": "python",
   "nbconvert_exporter": "python",
   "pygments_lexer": "ipython3",
   "version": "3.6.6"
  }
 },
 "nbformat": 4,
 "nbformat_minor": 2
}
