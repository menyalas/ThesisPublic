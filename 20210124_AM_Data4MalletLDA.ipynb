{
 "cells": [
  {
   "cell_type": "markdown",
   "metadata": {},
   "source": [
    "# Preparing Data for Mallet LDA Topic Model"
   ]
  },
  {
   "cell_type": "code",
   "execution_count": 1,
   "metadata": {
    "collapsed": true
   },
   "outputs": [],
   "source": [
    "import nltk\n",
    "from nltk import word_tokenize\n",
    "sentenceTokenizer = nltk.data.load('tokenizers/punkt/english.pickle') #Load tokenizer"
   ]
  },
  {
   "cell_type": "code",
   "execution_count": 28,
   "metadata": {},
   "outputs": [
    {
     "data": {
      "text/plain": [
       "915"
      ]
     },
     "execution_count": 28,
     "metadata": {},
     "output_type": "execute_result"
    }
   ],
   "source": [
    "from nltk.corpus import PlaintextCorpusReader\n",
    "lettersCorpus = PlaintextCorpusReader('letters', '.*txt') #Define corpus\n",
    "len(lettersCorpus.fileids()) #How many files"
   ]
  },
  {
   "cell_type": "code",
   "execution_count": 29,
   "metadata": {},
   "outputs": [
    {
     "data": {
      "text/html": [
       "<div>\n",
       "<style scoped>\n",
       "    .dataframe tbody tr th:only-of-type {\n",
       "        vertical-align: middle;\n",
       "    }\n",
       "\n",
       "    .dataframe tbody tr th {\n",
       "        vertical-align: top;\n",
       "    }\n",
       "\n",
       "    .dataframe thead th {\n",
       "        text-align: right;\n",
       "    }\n",
       "</style>\n",
       "<table border=\"1\" class=\"dataframe\">\n",
       "  <thead>\n",
       "    <tr style=\"text-align: right;\">\n",
       "      <th></th>\n",
       "      <th>letterText</th>\n",
       "      <th>fileid</th>\n",
       "    </tr>\n",
       "  </thead>\n",
       "  <tbody>\n",
       "  </tbody>\n",
       "</table>\n",
       "</div>"
      ],
      "text/plain": [
       "Empty DataFrame\n",
       "Columns: [letterText, fileid]\n",
       "Index: []"
      ]
     },
     "execution_count": 29,
     "metadata": {},
     "output_type": "execute_result"
    }
   ],
   "source": [
    "import pandas as pd\n",
    "df = pd.DataFrame(columns = ['letterText','fileid']) # Create a new dataframe to hold letter ID and fileid\n",
    "df.head()"
   ]
  },
  {
   "cell_type": "code",
   "execution_count": 30,
   "metadata": {
    "scrolled": false
   },
   "outputs": [
    {
     "name": "stdout",
     "output_type": "stream",
     "text": [
      "done\n"
     ]
    }
   ],
   "source": [
    "import re\n",
    "\n",
    "for fileid in lettersCorpus.fileids(): # For each file in the corpus\n",
    "    text = lettersCorpus.raw(fileid) # Place the string into the object \"text\"\n",
    "    text = re.sub(r\"(\\. ){2,}\",\"\", text) # Remove ellipses\n",
    "    text = re.sub(r\"(\\n+)\",\" \", text) # Replace blank lines with a single space\n",
    "    text = re.sub(r\"(&dot)\",\"\", text) # Remove this expression (a dot)\n",
    "    text = re.sub(r\"(— )\",\"\", text) # Remove dashes\n",
    "    text = text.lower() # Make everything lowercase (because some docs in all caps)\n",
    "    new_row = {'letterText':text, 'fileid':fileid} # Place the text and fileid into a dictionary called \"new_row\" in which the key is the variable and the value is the data\n",
    "    df = df.append(new_row, ignore_index=True) # Populate a new row in the dataframe with the dictionary info\n",
    "print('done') # Show progress"
   ]
  },
  {
   "cell_type": "code",
   "execution_count": 22,
   "metadata": {},
   "outputs": [
    {
     "data": {
      "text/html": [
       "<div>\n",
       "<style scoped>\n",
       "    .dataframe tbody tr th:only-of-type {\n",
       "        vertical-align: middle;\n",
       "    }\n",
       "\n",
       "    .dataframe tbody tr th {\n",
       "        vertical-align: top;\n",
       "    }\n",
       "\n",
       "    .dataframe thead th {\n",
       "        text-align: right;\n",
       "    }\n",
       "</style>\n",
       "<table border=\"1\" class=\"dataframe\">\n",
       "  <thead>\n",
       "    <tr style=\"text-align: right;\">\n",
       "      <th></th>\n",
       "      <th>letterText</th>\n",
       "      <th>fileid</th>\n",
       "    </tr>\n",
       "  </thead>\n",
       "  <tbody>\n",
       "    <tr>\n",
       "      <th>0</th>\n",
       "      <td>baltimore 20 september 1836 dear heinrich: fr...</td>\n",
       "      <td>S10003-D023.txt</td>\n",
       "    </tr>\n",
       "    <tr>\n",
       "      <th>1</th>\n",
       "      <td>tuesday, 14 november 1836 dear heinrich: we a...</td>\n",
       "      <td>S10003-D024.txt</td>\n",
       "    </tr>\n",
       "    <tr>\n",
       "      <th>2</th>\n",
       "      <td>westphalia settlement august 1837 dear heinri...</td>\n",
       "      <td>S10003-D025.txt</td>\n",
       "    </tr>\n",
       "    <tr>\n",
       "      <th>3</th>\n",
       "      <td>westphalian settlement 7 september '37 dear h...</td>\n",
       "      <td>S10003-D026.txt</td>\n",
       "    </tr>\n",
       "    <tr>\n",
       "      <th>4</th>\n",
       "      <td>westphalia settlement 1 march 1838 dear heinr...</td>\n",
       "      <td>S10003-D027.txt</td>\n",
       "    </tr>\n",
       "  </tbody>\n",
       "</table>\n",
       "</div>"
      ],
      "text/plain": [
       "                                          letterText           fileid\n",
       "0   baltimore 20 september 1836 dear heinrich: fr...  S10003-D023.txt\n",
       "1   tuesday, 14 november 1836 dear heinrich: we a...  S10003-D024.txt\n",
       "2   westphalia settlement august 1837 dear heinri...  S10003-D025.txt\n",
       "3   westphalian settlement 7 september '37 dear h...  S10003-D026.txt\n",
       "4   westphalia settlement 1 march 1838 dear heinr...  S10003-D027.txt"
      ]
     },
     "execution_count": 22,
     "metadata": {},
     "output_type": "execute_result"
    }
   ],
   "source": [
    "df.head()"
   ]
  },
  {
   "cell_type": "code",
   "execution_count": 43,
   "metadata": {},
   "outputs": [
    {
     "data": {
      "text/plain": [
       "[\" we stopped two days in quebec. it has a black appearance. there are full fine stores in it. i saw john egnew, he was very kind to us. i saw james mccana, he is very well and is going home. he and edward mcanaway, they were very kind to us. we then took a steamboat to montreal and stayed two days there. mr richardson went to benjamin workman and left the letter for robert workman. he told us he was there about two weeks ago and that he would be back in about eight days and that they were well and doing well. we went and hired a wagon and went out nine miles to lachine and there took a steamboat one hundred and fifty miles to prescott. the first i saw was my sister mary and she took us to her house and we stayed all night in her house and then we took the steamboat sixty miles to kingston and we stopped there six days. you may let james baylen know that i went out and saw george and he is well and he told us he would send his mother six pounds. kingston is a good town and is very rich. mr twig lives five miles out of the town and william and i were out and he has a beautiful place. you may let mrs johnston know that her brother will cranis is well and has a full fine shop. we went and got a steamboat and sailed to fort george and found john and robert gilmore there and they were all in good health when i saw them. it is a beautiful place, the yankees are on one side and the british on the other and the sentries about eight perches apart. john humphrey's joseph is dead, he lived but two days after he landed at fort george. the steamboat stopped about eight hours and then we went away to york. we landed on the 25th of august and went to john richardson's place. he has 200 acres of good land and a house on it about two perches from the road. two days after margaret had a young daughter and it lived three weeks and i called it for my mother. i took a house three miles from their place and set up a tavern. \",\n",
       " \" (extract of a letter from an emigrant who left scotland, for canada, in 1833.) zorra, london district, sept 1833. dear brother, when we arrived at quebec, a steamer came alongside, and took us and our luggage, in thirty hours sailing, to montreal. each adult 7s luggage free. captain a got our custom-house business transacted at quebec by his man of business. when we arrived at montreal, several men came to us wishing to engage to take us to prescot. if you come, make the best bargain you can with them. we employed m`pherson & co who keep a store three-quarters of a mile above the place where the steamer stops on the side of the canal. our luggage cost 2s 6d per cwt all sorts of provisions free. each adult 10s 2d they were at the expense of carting us all up from the steamer to their store, where we lodged till the boat sailed, which was next morning. we paid nothing for lodging, there being great opposition among the boat owners. we sailed in what is called a durham boat, which was partly covered. we arrived at prescot, and were landed on the wharf, paid 3d per cwt for wharfage, and had liberty to lodge in the store free until the schooner in which we were to embark should sail, which was in three days. our passage to hamilton (at the westermost end of lake ontario) was 2s 6d each, luggage 7d per cwt; four days' sailing 300 miles. we were put on shore at land's wharf, and lived in a school-house close by, which belonged to mr land. our luggage was put into the store; lodging and wharfage cost 7s 6d for nine days. we then left the women and travelled 50 miles up to zorra, through woods and very bad roads. we looked about two or three days for land to suit us, which is all very good in this township. we saw many fine lots for sale, and at last fixed on one of a hundred acres, at 12s sterling per acre, or 3 dollars currency; but it was long before we knew whether we could get it or not. we had to go to york, 110 miles distant, about the land. it is a fine lot on the banks of the thames. we are now well settled, all in good health, and have built a good log-house, and fogged it well. we have a good cow, which cost 22 dollars, with a calf three months old. a yoke of oxen cost 65 dollars the best in all the settlement. we expect to have another cow this fall. we have chopped, logged, and cleared, 4½ acres, and sown it in wheat. there are plenty of ducks, partridges, pigeons, and deer in the woods, some of which we have almost every day, and thousands of fruit trees of many kinds. we keep our health remarkably well, and like the country as well; but we think long for your coming out. mr m has bought ninty acres from a man here, five of which were cleared. i would sooner give 3½ dollars for ours, than 2½ for his purchase. to mr g or others who wish to know what we think of canada, i would say that many trifling things we find different from what we expected, but on the whole better. we like it remarkably well, and if we keep our health, as we seem to do, we have no fear of making a comfortable independent living. this is one of the most healthy townships in upper canada. the land is of the very best quality, and well watered, which in some townships and districts is scarce. those who are willing to follow after land ought to come out immediately, as it has risen in price considerably since we came here. there are still great numbers of emigrants arriving daily. a person can commence on land very well with £50, but better with more. our wheat is looking beautiful, and four inches high. we have pitted our potatoes, and are going to the mill next week with a grist. we have got another cow, which cost 17 dollars; so we shall have plenty of milk, and honey also, by the time you come out. labouring men can get plenty of work here, and thanks besides payment. several who came with us got employment the first day, at 5s and 6s (halifax currency) per day. \"]"
      ]
     },
     "execution_count": 43,
     "metadata": {},
     "output_type": "execute_result"
    }
   ],
   "source": [
    "list(df['letterText'].sample(2)) # Display a sample of 10 sentences"
   ]
  },
  {
   "cell_type": "code",
   "execution_count": 44,
   "metadata": {},
   "outputs": [
    {
     "data": {
      "text/html": [
       "<div>\n",
       "<style scoped>\n",
       "    .dataframe tbody tr th:only-of-type {\n",
       "        vertical-align: middle;\n",
       "    }\n",
       "\n",
       "    .dataframe tbody tr th {\n",
       "        vertical-align: top;\n",
       "    }\n",
       "\n",
       "    .dataframe thead th {\n",
       "        text-align: right;\n",
       "    }\n",
       "</style>\n",
       "<table border=\"1\" class=\"dataframe\">\n",
       "  <thead>\n",
       "    <tr style=\"text-align: right;\">\n",
       "      <th></th>\n",
       "      <th>letterText</th>\n",
       "      <th>fileid</th>\n",
       "    </tr>\n",
       "  </thead>\n",
       "  <tbody>\n",
       "    <tr>\n",
       "      <th>0</th>\n",
       "      <td>baltimore 20 september 1836 dear heinrich: fr...</td>\n",
       "      <td>S10003-D023</td>\n",
       "    </tr>\n",
       "    <tr>\n",
       "      <th>1</th>\n",
       "      <td>tuesday, 14 november 1836 dear heinrich: we a...</td>\n",
       "      <td>S10003-D024</td>\n",
       "    </tr>\n",
       "    <tr>\n",
       "      <th>2</th>\n",
       "      <td>westphalia settlement august 1837 dear heinri...</td>\n",
       "      <td>S10003-D025</td>\n",
       "    </tr>\n",
       "    <tr>\n",
       "      <th>3</th>\n",
       "      <td>westphalian settlement 7 september '37 dear h...</td>\n",
       "      <td>S10003-D026</td>\n",
       "    </tr>\n",
       "    <tr>\n",
       "      <th>4</th>\n",
       "      <td>westphalia settlement 1 march 1838 dear heinr...</td>\n",
       "      <td>S10003-D027</td>\n",
       "    </tr>\n",
       "  </tbody>\n",
       "</table>\n",
       "</div>"
      ],
      "text/plain": [
       "                                          letterText       fileid\n",
       "0   baltimore 20 september 1836 dear heinrich: fr...  S10003-D023\n",
       "1   tuesday, 14 november 1836 dear heinrich: we a...  S10003-D024\n",
       "2   westphalia settlement august 1837 dear heinri...  S10003-D025\n",
       "3   westphalian settlement 7 september '37 dear h...  S10003-D026\n",
       "4   westphalia settlement 1 march 1838 dear heinr...  S10003-D027"
      ]
     },
     "execution_count": 44,
     "metadata": {},
     "output_type": "execute_result"
    }
   ],
   "source": [
    "# Drop .txt from filename (latentData) so that it will match docid (metaData)\n",
    "df['fileid'] = df['fileid'].str.rstrip('.txt')\n",
    "df.head()"
   ]
  },
  {
   "cell_type": "code",
   "execution_count": 56,
   "metadata": {},
   "outputs": [],
   "source": [
    "df.to_csv('20210124_AM_Data4MalletLDA.csv', index = True)"
   ]
  }
 ],
 "metadata": {
  "kernelspec": {
   "display_name": "Python 3",
   "language": "python",
   "name": "python3"
  },
  "language_info": {
   "codemirror_mode": {
    "name": "ipython",
    "version": 3
   },
   "file_extension": ".py",
   "mimetype": "text/x-python",
   "name": "python",
   "nbconvert_exporter": "python",
   "pygments_lexer": "ipython3",
   "version": "3.9.1"
  }
 },
 "nbformat": 4,
 "nbformat_minor": 2
}
