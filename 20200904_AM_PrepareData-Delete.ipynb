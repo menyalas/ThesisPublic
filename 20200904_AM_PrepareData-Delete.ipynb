{
 "cells": [
  {
   "cell_type": "code",
   "execution_count": null,
   "metadata": {},
   "outputs": [],
   "source": [
    "# Recode Hedy Lamarr's nationality as United States\n",
    "authorData$nationality[authorData$docauthorid==\"per0021755\"] <- \"United States\"\n",
    "authorData[authorData$docauthorid == \"per0021755\", \n",
    "           c(\"docauthorname\", \n",
    "             \"nationality\")]"
   ]
  },
  {
   "cell_type": "code",
   "execution_count": null,
   "metadata": {},
   "outputs": [],
   "source": [
    "# Omit all references to wife in North American Occupation"
   ]
  },
  {
   "cell_type": "code",
   "execution_count": null,
   "metadata": {},
   "outputs": [],
   "source": [
    "# Recode \"Not indicated\" and missing data (\"\" or level 1 for many variables) as NA"
   ]
  }
 ],
 "metadata": {
  "kernelspec": {
   "display_name": "R",
   "language": "R",
   "name": "ir"
  },
  "language_info": {
   "codemirror_mode": "r",
   "file_extension": ".r",
   "mimetype": "text/x-r-source",
   "name": "R",
   "pygments_lexer": "r",
   "version": "3.5.1"
  }
 },
 "nbformat": 4,
 "nbformat_minor": 2
}
